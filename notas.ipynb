{
 "cells": [
  {
   "cell_type": "code",
   "execution_count": null,
   "metadata": {},
   "outputs": [],
   "source": [
    "print(\"hello world\")"
   ]
  },
  {
   "attachments": {},
   "cell_type": "markdown",
   "metadata": {},
   "source": [
    "# A level 1 title\n",
    "here is some text to introduce a \n",
    "## level 2 title\n",
    "**This** is very important\n",
    "## other level 2 title\n",
    "but *this is* as well"
   ]
  },
  {
   "cell_type": "code",
   "execution_count": null,
   "metadata": {},
   "outputs": [],
   "source": [
    "savingsAccount = 10000\n",
    "rate = 0.75\n",
    "interest = savingsAccount * rate/100\n",
    "print(\"Your account balance was\", savingsAccount, \"€\\nYou earned\", interest, \"€ this year\")\n"
   ]
  },
  {
   "cell_type": "code",
   "execution_count": null,
   "metadata": {},
   "outputs": [],
   "source": [
    "account = 200\n",
    "savings = 3000 + 500\n",
    "print(\"your savings are\", savings)"
   ]
  },
  {
   "cell_type": "code",
   "execution_count": 3,
   "metadata": {},
   "outputs": [
    {
     "name": "stdout",
     "output_type": "stream",
     "text": [
      "You earned interest =  75\n"
     ]
    }
   ],
   "source": [
    "savingsAccount = 10000\n",
    "rate = 0.75\n",
    "interest = int(savingsAccount * rate/100)\n",
    "print(\"You earned interest = \", interest)"
   ]
  },
  {
   "cell_type": "code",
   "execution_count": 4,
   "metadata": {},
   "outputs": [
    {
     "name": "stdout",
     "output_type": "stream",
     "text": [
      "I've been to Sydney 5 times\n"
     ]
    }
   ],
   "source": [
    "city = \"Sydney\"\n",
    "numberTrips = 5\n",
    "history = f\"I've been to {city} {numberTrips} times\"\n",
    "print(history)"
   ]
  },
  {
   "cell_type": "code",
   "execution_count": 7,
   "metadata": {},
   "outputs": [
    {
     "name": "stdout",
     "output_type": "stream",
     "text": [
      "5\n",
      "<class 'str'>\n",
      "16\n",
      "100\n"
     ]
    }
   ],
   "source": [
    "a = \"apple\"\n",
    "print(len(a))\n",
    "print(type(a))\n",
    "print(pow(4,2))\n",
    "print(abs(-100))"
   ]
  },
  {
   "cell_type": "code",
   "execution_count": 9,
   "metadata": {},
   "outputs": [
    {
     "name": "stdout",
     "output_type": "stream",
     "text": [
      "The perimeter is 25\n",
      "The perimeter is 7.5\n"
     ]
    }
   ],
   "source": [
    "def printPerimeter(dimension1, dimension2, dimension3 ):\n",
    "    perimeter = (dimension1 + dimension2 + dimension3)\n",
    "    print(\"The perimeter is\", perimeter)\n",
    "\n",
    "printPerimeter(10,11,4)\n",
    "printPerimeter(2,2,3.5)    "
   ]
  },
  {
   "cell_type": "code",
   "execution_count": 10,
   "metadata": {},
   "outputs": [
    {
     "name": "stdout",
     "output_type": "stream",
     "text": [
      "The perimeter of my first triangle is 13 and that of my second is 24\n"
     ]
    }
   ],
   "source": [
    "def calculatePerimeter(dimension1, dimension2, dimension3 ):\n",
    "    return (dimension1 + dimension2 + dimension3)\n",
    "\n",
    "perimeter1 = calculatePerimeter(6,4,3)\n",
    "perimeter2 = calculatePerimeter(10,3,11)\n",
    "print(\"The perimeter of my first triangle is\", perimeter1, \"and that of my second is\", perimeter2)"
   ]
  },
  {
   "cell_type": "code",
   "execution_count": 11,
   "metadata": {},
   "outputs": [
    {
     "name": "stdout",
     "output_type": "stream",
     "text": [
      "hello world\n"
     ]
    }
   ],
   "source": [
    "a = \"HELLO WORLD\"\n",
    "print(a.lower())"
   ]
  },
  {
   "cell_type": "code",
   "execution_count": 12,
   "metadata": {},
   "outputs": [
    {
     "name": "stdout",
     "output_type": "stream",
     "text": [
      "HERE IS AN EXAMPLE OF A STRING\n",
      "Here is an example of a string\n",
      "here is an test of a STRING\n",
      "8\n",
      "-1\n",
      "-1\n"
     ]
    }
   ],
   "source": [
    "text = \"here is an EXAMPLE of a STRING\"\n",
    "a = text.upper()\n",
    "print(a)\n",
    "print(text.capitalize())\n",
    "print(text.replace(\"EXAMPLE\", \"test\"))\n",
    "print(text.find(\"an\"))\n",
    "print(text.find(\"an\", 10))\n",
    "print(text.find(\"two\"))"
   ]
  },
  {
   "cell_type": "code",
   "execution_count": 4,
   "metadata": {},
   "outputs": [
    {
     "name": "stdout",
     "output_type": "stream",
     "text": [
      "John\n",
      "Mary\n",
      "['John', 'Mary', 'Peter', 'Sally']\n",
      "John Smith\n",
      "['John Smith', 'Mary', 'Peter', 'Sally']\n",
      "Sally\n",
      "['Mary', 'Peter']\n",
      "['John Smith', 'Mary']\n"
     ]
    }
   ],
   "source": [
    "customerName=[\"John\", \"Mary\", \"Peter\", \"Sally\"]\n",
    "print(customerName[0])\n",
    "print(customerName[1])\n",
    "print(customerName)\n",
    "customerName[0] = \"John Smith\"\n",
    "print(customerName[0])\n",
    "print(customerName)\n",
    "print(customerName[-1])\n",
    "print(customerName[1:3])\n",
    "print(customerName[:2])"
   ]
  },
  {
   "cell_type": "code",
   "execution_count": 5,
   "metadata": {},
   "outputs": [
    {
     "name": "stdout",
     "output_type": "stream",
     "text": [
      "['another list', 1]\n"
     ]
    }
   ],
   "source": [
    "strangeList=[4,10.2,\"John\",['another list',1]]\n",
    "print(strangeList[3])"
   ]
  }
 ],
 "metadata": {
  "kernelspec": {
   "display_name": "Python 3",
   "language": "python",
   "name": "python3"
  },
  "language_info": {
   "codemirror_mode": {
    "name": "ipython",
    "version": 3
   },
   "file_extension": ".py",
   "mimetype": "text/x-python",
   "name": "python",
   "nbconvert_exporter": "python",
   "pygments_lexer": "ipython3",
   "version": "3.11.2"
  },
  "orig_nbformat": 4
 },
 "nbformat": 4,
 "nbformat_minor": 2
}
